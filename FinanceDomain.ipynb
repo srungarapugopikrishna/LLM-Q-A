{
 "cells": [
  {
   "cell_type": "code",
   "execution_count": 1,
   "id": "a27f8cfe-a605-40e5-8ec0-5048715e9bac",
   "metadata": {},
   "outputs": [],
   "source": [
    "from langchain.document_loaders import UnstructuredURLLoader"
   ]
  },
  {
   "cell_type": "code",
   "execution_count": 6,
   "id": "56952eb2-47c4-4b22-be98-44c149778bb2",
   "metadata": {},
   "outputs": [],
   "source": [
    "loader = UnstructuredURLLoader(urls=[\n",
    "    \"https://www.livemint.com/market/stock-market-news/top-stock-recommendations-sagar-doshi-of-nuvama-recommends-l-t-finance-prestige-estates-and-lupin-for-tomorrow-11714530114505.html\",\n",
    "    \"https://www.moneycontrol.com/technology/licious-hits-100-million-in-annual-revenue-run-rate-article-12711947.html\"\n",
    "])"
   ]
  },
  {
   "cell_type": "code",
   "execution_count": 7,
   "id": "34ac64d4-fe90-4d3f-9c9c-0f3812c23433",
   "metadata": {},
   "outputs": [
    {
     "data": {
      "text/plain": [
       "2"
      ]
     },
     "execution_count": 7,
     "metadata": {},
     "output_type": "execute_result"
    }
   ],
   "source": [
    "data = loader.load()\n",
    "len(data)"
   ]
  },
  {
   "cell_type": "code",
   "execution_count": 9,
   "id": "d276f99e-6598-4f45-affb-df115c309681",
   "metadata": {},
   "outputs": [],
   "source": [
    "text = \"\"\"Hayley is the only child in her family and was born in the North West of England. Hayley had a pretty good childhood, and she couldn’t have asked for better. Remembering her battle with obesity, she says that her parents never liked wastage. It was a rule even when it came to food. If she wanted dessert, she needed to finish everything on her plate without wasting any of it. And like most children, she always wanted dessert. It became a lifestyle pattern for her, and she started indulging more and more. \n",
    "\n",
    "Soon, she began putting on weight. It became more severe and drastic when she was a teenager and faced peer problems. She had many bad experiences in her childhood. Like other girls her age, she, too, wanted to go out with friends but was shy and hesitant as she was always the ‘fat one.’ As a result, she started distancing herself from her friends and would keep herself locked in her room. And then eat more. It was her way of recuperating with the absence of friends and hanging out with them. \n",
    "\n",
    "Hayley – Her story\n",
    "Not only this, Hayley was bullied by people she didn’t even know. Once a man in a plane seated in front of her said she looked like a ‘fat pig.’ And this was when she was only a child. People would give her ugly looks or stare. However, she also admits that most times, it was more in her head that people were giving her a look and thinking, ‘look at that fatty.’ \n",
    "\n",
    "Hayley\n",
    "Hayley\n",
    "Her relatives often told her that she needed to lose some weight. She realizes now that they said it because they wanted her to be healthy, fit, and live a long life. But she would often end up taking it as a hateful gesture. She felt that they were taunting her. It made her feel more depressed, and she ate more to suppress her feelings and insecurities.\n",
    "\n",
    "Soon enough, Hayley married and became a mother to three adorable children while battling all weight problems. Over time, she had tried to take action for about 20 years through various diets and exercise combinations but, she always got demotivated due to only small losses and inconsistent weight loss. She would prepare and swear to diet with discipline and then eat a lot and break the middle process, thus never achieving her goal. Although she didn’t see much result, she kept trying out new things to achieve weight loss.\n",
    "\n",
    "It was 2020, and the lockdown was announced due to Covid-19. Now Hayley couldn’t even go out to work out or run because of the lockdown. And the fact that the pandemic is more dangerous to people who are overweight scared her immensely. Something motivated her badly – Coronavirus. Yes, Covid helped her as she was afraid that if she got this disease, she could leave her three kids without a mother as she also had asthma, and her BMI was hitting 46.1.\n",
    "\n",
    "Hayley with kids\n",
    "Hayley with kids\n",
    "After realizing that, she knew that she needed to lose weight quickly to keep herself motivated. She went to her friend and checked her options. She had a friend that did 1:1 weight loss consulting, so she contacted her. She started following her diet in August 2020 and lost two stones (About 12kg) in the first month itself. This considerable loss in weight inspired her more, and she became a weight-loss consultant to help others. It also kept her on track because she wanted to set an example to the people approaching her and raise hopes of transforming them!\n",
    "\n",
    "Between all of this, something terrible happened to her. She lost someone close to her, and following her weight loss plan became difficult. Nevertheless, even during such a tough time, Hayley maintained her weight without gaining any before getting back on her diet plan fully. Hayley is now extremely close to her goal and feels energetic and motivated. She has also overcome sleep apnea due to weight loss, which she was struggling with earlier.\n",
    "\n",
    "She shares her successes and failures, so she can help others lead a healthy life.\n",
    "It was the diet that completely changed her life. Before opting for a diet, she looked to get gastric band surgery, and she felt like it was her last option. But since she found out the diet for a gastric band can be complicated, she didn’t opt for it. She met people who had numerous complications, and she felt so grateful that she tried the diet.\n",
    "\n",
    "Hayley \n",
    "Hayley\n",
    "And because of realizing that, she hopes to help many more people reach their goals and feel good again. She tailors diet plans according to their needs, abilities, and fitness activity level. She supports and motivates each of her dieters and helps them to achieve their desired results. Do follow her on her Instagram channel. Hayley also plans to do a charity skydive next year, something unimaginable when she was overweight. Although she will pay for the skydive by herself, she plans to donate all of the money to a charity if people pitch in for her charity skydive. \n",
    "\n",
    "Hayley has done what others wish to do/achieve. She stuck to her goal with a vision and didn’t let it be a mere dream or wish. She will keep inspiring many to achieve their goal and motivate them to lead a healthy lifestyle!\"\"\""
   ]
  },
  {
   "cell_type": "code",
   "execution_count": 12,
   "id": "42a66a9f-f6c2-4b9b-9a11-e0b2fbaf834b",
   "metadata": {},
   "outputs": [
    {
     "name": "stderr",
     "output_type": "stream",
     "text": [
      "Created a chunk of size 509, which is longer than the specified 200\n",
      "Created a chunk of size 498, which is longer than the specified 200\n",
      "Created a chunk of size 365, which is longer than the specified 200\n",
      "Created a chunk of size 356, which is longer than the specified 200\n",
      "Created a chunk of size 528, which is longer than the specified 200\n",
      "Created a chunk of size 453, which is longer than the specified 200\n",
      "Created a chunk of size 565, which is longer than the specified 200\n",
      "Created a chunk of size 448, which is longer than the specified 200\n",
      "Created a chunk of size 349, which is longer than the specified 200\n",
      "Created a chunk of size 574, which is longer than the specified 200\n"
     ]
    }
   ],
   "source": [
    "from langchain.text_splitter import CharacterTextSplitter\n",
    "\n",
    "splitter = CharacterTextSplitter(\n",
    "    separator=\"\\n\",\n",
    "    chunk_size=200,\n",
    "    chunk_overlap=0\n",
    ")\n",
    "chunks = splitter.split_text(text)"
   ]
  },
  {
   "cell_type": "code",
   "execution_count": 13,
   "id": "709d6c3e-b3cb-4804-b77c-143b09aa7268",
   "metadata": {},
   "outputs": [
    {
     "data": {
      "text/plain": [
       "16"
      ]
     },
     "execution_count": 13,
     "metadata": {},
     "output_type": "execute_result"
    }
   ],
   "source": [
    "len(chunks)"
   ]
  },
  {
   "cell_type": "code",
   "execution_count": 27,
   "id": "c00d23ae-6607-4c0c-b77c-ffc82b0a7ef9",
   "metadata": {},
   "outputs": [],
   "source": [
    "from langchain.text_splitter import RecursiveCharacterTextSplitter\n",
    "\n",
    "r_splitter = RecursiveCharacterTextSplitter(\n",
    "    separators=[\"\\n\\n\", \"\\n\", \" \"],\n",
    "    chunk_size=200,\n",
    "    chunk_overlap=0\n",
    ")"
   ]
  },
  {
   "cell_type": "code",
   "execution_count": 28,
   "id": "216c72b1-837c-4852-8fb0-889552cee60c",
   "metadata": {},
   "outputs": [
    {
     "name": "stdout",
     "output_type": "stream",
     "text": [
      "[508, 497, 18, 364, 13, 356, 528, 453, 33, 565, 448, 82, 349, 14, 573, 224]\n"
     ]
    }
   ],
   "source": [
    "print([len(chunk) for chunk in chunks])"
   ]
  },
  {
   "cell_type": "code",
   "execution_count": 23,
   "id": "0093ecb2-eaf4-4f03-8c12-a79893340526",
   "metadata": {},
   "outputs": [
    {
     "data": {
      "text/plain": [
       "16"
      ]
     },
     "execution_count": 23,
     "metadata": {},
     "output_type": "execute_result"
    }
   ],
   "source": [
    "len(chunks)"
   ]
  },
  {
   "cell_type": "code",
   "execution_count": 26,
   "id": "25a7b954-1640-43d5-af44-e375ff71a0ed",
   "metadata": {},
   "outputs": [
    {
     "data": {
      "text/plain": [
       "'And because of realizing that, she hopes to help many more people reach their goals and feel good again. She tailors diet plans according to their needs, abilities, and fitness activity level. She supports and motivates each of her dieters and helps them to achieve their desired results. Do follow her on her Instagram channel. Hayley also plans to do a charity skydive next year, something unimaginable when she was overweight. Although she will pay for the skydive by herself, she plans to donate all of the money to a charity if people pitch in for her charity skydive.'"
      ]
     },
     "execution_count": 26,
     "metadata": {},
     "output_type": "execute_result"
    }
   ],
   "source": [
    "chunks[-2]"
   ]
  },
  {
   "cell_type": "code",
   "execution_count": null,
   "id": "403a1872-e239-43ae-80b9-9a730f04e3fb",
   "metadata": {},
   "outputs": [],
   "source": []
  }
 ],
 "metadata": {
  "kernelspec": {
   "display_name": "Python 3 (ipykernel)",
   "language": "python",
   "name": "python3"
  },
  "language_info": {
   "codemirror_mode": {
    "name": "ipython",
    "version": 3
   },
   "file_extension": ".py",
   "mimetype": "text/x-python",
   "name": "python",
   "nbconvert_exporter": "python",
   "pygments_lexer": "ipython3",
   "version": "3.10.11"
  }
 },
 "nbformat": 4,
 "nbformat_minor": 5
}
