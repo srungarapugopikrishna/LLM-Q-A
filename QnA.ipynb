{
 "cells": [
  {
   "cell_type": "code",
   "execution_count": 1,
   "id": "a0a6626a-48dd-4fea-aef3-590e00328342",
   "metadata": {},
   "outputs": [],
   "source": [
    "from langchain.document_loaders import WebBaseLoader"
   ]
  },
  {
   "cell_type": "code",
   "execution_count": 50,
   "id": "c5541799-6e38-4ea1-a1a9-4b0fe2fef873",
   "metadata": {},
   "outputs": [],
   "source": [
    "loader = WebBaseLoader(\"https://hatkestory.com/about-us/\")\n",
    "data = loader.load()"
   ]
  },
  {
   "cell_type": "code",
   "execution_count": 51,
   "id": "f143c102-2a8c-4eb6-97ed-ccc1696f566e",
   "metadata": {},
   "outputs": [],
   "source": [
    "from langchain.text_splitter import RecursiveCharacterTextSplitter\n",
    "\n",
    "text_splitter = RecursiveCharacterTextSplitter(\n",
    "    chunk_size = 1000,\n",
    "    chunk_overlap  = 100,\n",
    "    length_function = len,\n",
    "    add_start_index = True,)\n",
    "texts = text_splitter.split_documents(data)"
   ]
  },
  {
   "cell_type": "code",
   "execution_count": 37,
   "id": "a73bf5a3-3578-42a6-8981-205788c6a75c",
   "metadata": {},
   "outputs": [],
   "source": [
    "from langchain.vectorstores import Pinecone\n",
    "from langchain.embeddings.openai import OpenAIEmbeddings\n",
    "import pinecone"
   ]
  },
  {
   "cell_type": "code",
   "execution_count": 1,
   "id": "1e45c8f5-365e-4d0b-a218-9709df3926e5",
   "metadata": {},
   "outputs": [],
   "source": [
    "import os\n",
    "openai_api_key = 'key'\n",
    "pinecone_api_key = 'pineconekey'\n",
    "os.environ['PINECONE_API_KEY'] = pinecone_api_key\n",
    "os.environ['OPENAI_API_KEY'] = openai_api_key"
   ]
  },
  {
   "cell_type": "code",
   "execution_count": 38,
   "id": "5ee2593e-0ebe-4a11-b1a3-3f32165e2ffd",
   "metadata": {},
   "outputs": [],
   "source": [
    "embeddings = OpenAIEmbeddings(openai_api_key=os.environ['OPENAI_API_KEY'])"
   ]
  },
  {
   "cell_type": "code",
   "execution_count": 41,
   "id": "8ab6baac-f9b4-462e-9205-c5645d0dae71",
   "metadata": {},
   "outputs": [],
   "source": [
    "pc= pinecone.Pinecone(\n",
    "            api_key= os.environ['PINECONE_API_KEY'],\n",
    "            environment= 'us-east-1'\n",
    ")\n",
    "index_name = pc.Index('index-1')"
   ]
  },
  {
   "cell_type": "code",
   "execution_count": 43,
   "id": "7b6acb9b-f89e-43c8-925f-fcb5f0b7cf77",
   "metadata": {},
   "outputs": [],
   "source": [
    "from langchain_openai import ChatOpenAI\n",
    "llm = ChatOpenAI(model_name='gpt-3.5-turbo', temperature=0)"
   ]
  },
  {
   "cell_type": "code",
   "execution_count": 52,
   "id": "3fbeced6-3a54-45cd-a250-b1ff5e7d00c6",
   "metadata": {},
   "outputs": [],
   "source": [
    "vectordb = Pinecone.from_documents(texts, embeddings, index_name='index-1')"
   ]
  },
  {
   "cell_type": "code",
   "execution_count": 53,
   "id": "6caf02c4-3cce-4bdd-a366-4b0b5ef389de",
   "metadata": {},
   "outputs": [],
   "source": [
    "retriever = vectordb.as_retriever()"
   ]
  },
  {
   "cell_type": "code",
   "execution_count": 54,
   "id": "2dee46c3-560b-43d7-9aed-e9bdffd2ab48",
   "metadata": {},
   "outputs": [],
   "source": [
    "from langchain.memory import ConversationBufferMemory\n",
    "from langchain.chains import ConversationalRetrievalChain\n",
    "\n",
    "memory = ConversationBufferMemory(memory_key=\"chat_history\", return_messages= True)\n",
    "chain = ConversationalRetrievalChain.from_llm(llm, retriever= retriever, memory= memory)"
   ]
  },
  {
   "cell_type": "code",
   "execution_count": 55,
   "id": "1fb5b72f-40b3-40b3-b84a-e20347f61f6c",
   "metadata": {},
   "outputs": [
    {
     "data": {
      "text/plain": [
       "{'question': 'where did gopi met rohit first?',\n",
       " 'chat_history': [HumanMessage(content='where did gopi met rohit first?'),\n",
       "  AIMessage(content='Gopi met Rohit for the first time at the JNTU campus in Hyderabad.')],\n",
       " 'answer': 'Gopi met Rohit for the first time at the JNTU campus in Hyderabad.'}"
      ]
     },
     "execution_count": 55,
     "metadata": {},
     "output_type": "execute_result"
    }
   ],
   "source": [
    "query = 'where did gopi met rohit first?'\n",
    "chain.invoke({'question': query})"
   ]
  },
  {
   "cell_type": "code",
   "execution_count": 56,
   "id": "b7972212-267e-49bb-963d-a828f7d4c88b",
   "metadata": {},
   "outputs": [
    {
     "data": {
      "text/plain": [
       "{'question': 'what is the initial conversation happened between gopi and rohit?',\n",
       " 'chat_history': [HumanMessage(content='where did gopi met rohit first?'),\n",
       "  AIMessage(content='Gopi met Rohit for the first time at the JNTU campus in Hyderabad.'),\n",
       "  HumanMessage(content='what is the initial conversation happened between gopi and rohit?'),\n",
       "  AIMessage(content='The initial conversation between Gopi and Rohit was:\\n“Hey, hi, I am Rohit. Where are you from?” \\n“Hello, Rohit. I am Gopi. I am from Vijayawada.”')],\n",
       " 'answer': 'The initial conversation between Gopi and Rohit was:\\n“Hey, hi, I am Rohit. Where are you from?” \\n“Hello, Rohit. I am Gopi. I am from Vijayawada.”'}"
      ]
     },
     "execution_count": 56,
     "metadata": {},
     "output_type": "execute_result"
    }
   ],
   "source": [
    "query = 'what is the initial conversation happened between gopi and rohit?'\n",
    "chain.invoke({'question': query})"
   ]
  },
  {
   "cell_type": "code",
   "execution_count": 57,
   "id": "ae847432-cdb8-4154-9d47-1e2928e23747",
   "metadata": {},
   "outputs": [
    {
     "data": {
      "text/plain": [
       "{'question': 'when did gopi and rohit decided to start the platform?',\n",
       " 'chat_history': [HumanMessage(content='where did gopi met rohit first?'),\n",
       "  AIMessage(content='Gopi met Rohit for the first time at the JNTU campus in Hyderabad.'),\n",
       "  HumanMessage(content='what is the initial conversation happened between gopi and rohit?'),\n",
       "  AIMessage(content='The initial conversation between Gopi and Rohit was:\\n“Hey, hi, I am Rohit. Where are you from?” \\n“Hello, Rohit. I am Gopi. I am from Vijayawada.”'),\n",
       "  HumanMessage(content='when did gopi and rohit decided to start the platform?'),\n",
       "  AIMessage(content='Gopi and Rohit decided to start the platform, HATKESTORY.COM, in 2016.')],\n",
       " 'answer': 'Gopi and Rohit decided to start the platform, HATKESTORY.COM, in 2016.'}"
      ]
     },
     "execution_count": 57,
     "metadata": {},
     "output_type": "execute_result"
    }
   ],
   "source": [
    "query = 'when did gopi and rohit decided to start the platform?'\n",
    "chain.invoke({'question': query})"
   ]
  },
  {
   "cell_type": "code",
   "execution_count": 58,
   "id": "48e50e36-7931-4826-92d7-81f7022ff407",
   "metadata": {},
   "outputs": [
    {
     "data": {
      "text/plain": [
       "{'question': 'what is the motivation for rohit and gopi to start hatkestory?',\n",
       " 'chat_history': [HumanMessage(content='where did gopi met rohit first?'),\n",
       "  AIMessage(content='Gopi met Rohit for the first time at the JNTU campus in Hyderabad.'),\n",
       "  HumanMessage(content='what is the initial conversation happened between gopi and rohit?'),\n",
       "  AIMessage(content='The initial conversation between Gopi and Rohit was:\\n“Hey, hi, I am Rohit. Where are you from?” \\n“Hello, Rohit. I am Gopi. I am from Vijayawada.”'),\n",
       "  HumanMessage(content='when did gopi and rohit decided to start the platform?'),\n",
       "  AIMessage(content='Gopi and Rohit decided to start the platform, HATKESTORY.COM, in 2016.'),\n",
       "  HumanMessage(content='what is the motivation for rohit and gopi to start hatkestory?'),\n",
       "  AIMessage(content=\"Rohit and Gopi were motivated to start Hatkestory because they wanted to share the stories of ordinary people living extraordinary lives. They believed that these stories deserved more attention and celebration, even if they wouldn't get high TRP ratings. Their love for stories and the inspiration they drew from the people they met along their journeys led them to create a platform where they could share these unique narratives with a wider audience.\")],\n",
       " 'answer': \"Rohit and Gopi were motivated to start Hatkestory because they wanted to share the stories of ordinary people living extraordinary lives. They believed that these stories deserved more attention and celebration, even if they wouldn't get high TRP ratings. Their love for stories and the inspiration they drew from the people they met along their journeys led them to create a platform where they could share these unique narratives with a wider audience.\"}"
      ]
     },
     "execution_count": 58,
     "metadata": {},
     "output_type": "execute_result"
    }
   ],
   "source": [
    "query = 'what is the motivation for rohit and gopi to start hatkestory?'\n",
    "chain.invoke({'question': query})"
   ]
  },
  {
   "cell_type": "code",
   "execution_count": null,
   "id": "9b7fa5dc-4d25-44a0-af0d-4e65213ed723",
   "metadata": {},
   "outputs": [],
   "source": []
  }
 ],
 "metadata": {
  "kernelspec": {
   "display_name": "Python 3 (ipykernel)",
   "language": "python",
   "name": "python3"
  },
  "language_info": {
   "codemirror_mode": {
    "name": "ipython",
    "version": 3
   },
   "file_extension": ".py",
   "mimetype": "text/x-python",
   "name": "python",
   "nbconvert_exporter": "python",
   "pygments_lexer": "ipython3",
   "version": "3.10.11"
  }
 },
 "nbformat": 4,
 "nbformat_minor": 5
}
